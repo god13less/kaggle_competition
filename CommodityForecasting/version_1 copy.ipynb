{
 "cells": [
  {
   "cell_type": "markdown",
   "metadata": {},
   "source": [
    "# <center>购买商品预测</center>\n",
    "===========================================================================================================================================\n",
    "<p align=\"right\">王鑫轶 大数据2001</p>\n",
    "<p align=\"right\">任新宇 数学2001</p>"
   ]
  },
  {
   "cell_type": "markdown",
   "metadata": {},
   "source": [
    "# **一、数据概览**\n"
   ]
  },
  {
   "cell_type": "markdown",
   "metadata": {},
   "source": [
    "## 1.1 导入相关库"
   ]
  },
  {
   "cell_type": "code",
   "execution_count": 1,
   "metadata": {},
   "outputs": [],
   "source": [
    "import pandas as pd\n",
    "import numpy as np\n",
    "import matplotlib as plt\n",
    "from sklearn import preprocessing\n",
    "# 画图的库\n",
    "import seaborn as sns\n",
    "import matplotlib.pyplot as plt\n",
    "%matplotlib inline\n",
    "import warnings # 该库可以忽略警告\n",
    "warnings.filterwarnings('ignore')"
   ]
  },
  {
   "cell_type": "markdown",
   "metadata": {},
   "source": [
    "## 1.2 导入数据"
   ]
  },
  {
   "cell_type": "markdown",
   "metadata": {},
   "source": [
    "### 1.2.1 查看训练集和测试集数据"
   ]
  },
  {
   "cell_type": "markdown",
   "metadata": {},
   "source": [
    "训练集数据"
   ]
  },
  {
   "cell_type": "code",
   "execution_count": 2,
   "metadata": {},
   "outputs": [
    {
     "data": {
      "text/html": [
       "<div>\n",
       "<style scoped>\n",
       "    .dataframe tbody tr th:only-of-type {\n",
       "        vertical-align: middle;\n",
       "    }\n",
       "\n",
       "    .dataframe tbody tr th {\n",
       "        vertical-align: top;\n",
       "    }\n",
       "\n",
       "    .dataframe thead th {\n",
       "        text-align: right;\n",
       "    }\n",
       "</style>\n",
       "<table border=\"1\" class=\"dataframe\">\n",
       "  <thead>\n",
       "    <tr style=\"text-align: right;\">\n",
       "      <th></th>\n",
       "      <th>salary</th>\n",
       "      <th>age</th>\n",
       "      <th>elevel</th>\n",
       "      <th>car</th>\n",
       "      <th>zipcode</th>\n",
       "      <th>credit</th>\n",
       "      <th>brand</th>\n",
       "    </tr>\n",
       "  </thead>\n",
       "  <tbody>\n",
       "    <tr>\n",
       "      <th>0</th>\n",
       "      <td>119806.54480</td>\n",
       "      <td>45</td>\n",
       "      <td>0</td>\n",
       "      <td>14</td>\n",
       "      <td>4</td>\n",
       "      <td>442037.71130</td>\n",
       "      <td>0</td>\n",
       "    </tr>\n",
       "    <tr>\n",
       "      <th>1</th>\n",
       "      <td>78020.75094</td>\n",
       "      <td>23</td>\n",
       "      <td>0</td>\n",
       "      <td>15</td>\n",
       "      <td>2</td>\n",
       "      <td>48795.32279</td>\n",
       "      <td>0</td>\n",
       "    </tr>\n",
       "    <tr>\n",
       "      <th>2</th>\n",
       "      <td>50873.61880</td>\n",
       "      <td>20</td>\n",
       "      <td>3</td>\n",
       "      <td>14</td>\n",
       "      <td>4</td>\n",
       "      <td>352951.49770</td>\n",
       "      <td>0</td>\n",
       "    </tr>\n",
       "    <tr>\n",
       "      <th>3</th>\n",
       "      <td>72298.80402</td>\n",
       "      <td>29</td>\n",
       "      <td>4</td>\n",
       "      <td>17</td>\n",
       "      <td>0</td>\n",
       "      <td>276298.69520</td>\n",
       "      <td>0</td>\n",
       "    </tr>\n",
       "    <tr>\n",
       "      <th>4</th>\n",
       "      <td>128999.93560</td>\n",
       "      <td>52</td>\n",
       "      <td>1</td>\n",
       "      <td>6</td>\n",
       "      <td>0</td>\n",
       "      <td>152232.50980</td>\n",
       "      <td>0</td>\n",
       "    </tr>\n",
       "  </tbody>\n",
       "</table>\n",
       "</div>"
      ],
      "text/plain": [
       "         salary  age  elevel  car  zipcode        credit  brand\n",
       "0  119806.54480   45       0   14        4  442037.71130      0\n",
       "1   78020.75094   23       0   15        2   48795.32279      0\n",
       "2   50873.61880   20       3   14        4  352951.49770      0\n",
       "3   72298.80402   29       4   17        0  276298.69520      0\n",
       "4  128999.93560   52       1    6        0  152232.50980      0"
      ]
     },
     "execution_count": 2,
     "metadata": {},
     "output_type": "execute_result"
    }
   ],
   "source": [
    "path='data/'\n",
    "test_data=pd.read_csv(path+'test.csv') # 读取测试集\n",
    "train_data=pd.read_csv(path+'train.csv')# 读取训练集\n",
    "train_data.head()# 查看训练集数据的前五条"
   ]
  },
  {
   "cell_type": "markdown",
   "metadata": {},
   "source": [
    "|列名|salary|age|elevel|car|zipcode|credit|brand|\n",
    "|----|------|---|------|---|-------|-----|-----|\n",
    "|意义|工资|年龄|获得的最高的教育等级|车的种类|邮政编码|信用额度|品牌的电脑|\n",
    "\n",
    "brand 是我们需要预测的标签"
   ]
  },
  {
   "cell_type": "markdown",
   "metadata": {},
   "source": [
    "测试集数据"
   ]
  },
  {
   "cell_type": "markdown",
   "metadata": {},
   "source": [
    "### 1.2.2 观察数据个数"
   ]
  },
  {
   "cell_type": "code",
   "execution_count": 3,
   "metadata": {},
   "outputs": [
    {
     "name": "stdout",
     "output_type": "stream",
     "text": [
      "the number of train set is:  (9398, 7)\n",
      "the number of test set is:  (4500, 7)\n"
     ]
    },
    {
     "data": {
      "text/html": [
       "<div>\n",
       "<style scoped>\n",
       "    .dataframe tbody tr th:only-of-type {\n",
       "        vertical-align: middle;\n",
       "    }\n",
       "\n",
       "    .dataframe tbody tr th {\n",
       "        vertical-align: top;\n",
       "    }\n",
       "\n",
       "    .dataframe thead th {\n",
       "        text-align: right;\n",
       "    }\n",
       "</style>\n",
       "<table border=\"1\" class=\"dataframe\">\n",
       "  <thead>\n",
       "    <tr style=\"text-align: right;\">\n",
       "      <th></th>\n",
       "      <th>salary</th>\n",
       "      <th>age</th>\n",
       "      <th>elevel</th>\n",
       "      <th>car</th>\n",
       "      <th>zipcode</th>\n",
       "      <th>credit</th>\n",
       "      <th>brand</th>\n",
       "    </tr>\n",
       "  </thead>\n",
       "  <tbody>\n",
       "    <tr>\n",
       "      <th>count</th>\n",
       "      <td>9398.000000</td>\n",
       "      <td>9398.000000</td>\n",
       "      <td>9398.000000</td>\n",
       "      <td>9398.000000</td>\n",
       "      <td>9398.000000</td>\n",
       "      <td>9398.00000</td>\n",
       "      <td>9398.000000</td>\n",
       "    </tr>\n",
       "    <tr>\n",
       "      <th>mean</th>\n",
       "      <td>84660.175727</td>\n",
       "      <td>49.839434</td>\n",
       "      <td>1.981805</td>\n",
       "      <td>10.508087</td>\n",
       "      <td>4.031390</td>\n",
       "      <td>248854.90282</td>\n",
       "      <td>0.601617</td>\n",
       "    </tr>\n",
       "    <tr>\n",
       "      <th>std</th>\n",
       "      <td>37366.506559</td>\n",
       "      <td>17.588066</td>\n",
       "      <td>1.420142</td>\n",
       "      <td>5.769663</td>\n",
       "      <td>2.580733</td>\n",
       "      <td>145150.62815</td>\n",
       "      <td>0.489591</td>\n",
       "    </tr>\n",
       "    <tr>\n",
       "      <th>min</th>\n",
       "      <td>20000.000000</td>\n",
       "      <td>20.000000</td>\n",
       "      <td>0.000000</td>\n",
       "      <td>1.000000</td>\n",
       "      <td>0.000000</td>\n",
       "      <td>0.00000</td>\n",
       "      <td>0.000000</td>\n",
       "    </tr>\n",
       "    <tr>\n",
       "      <th>25%</th>\n",
       "      <td>52469.618368</td>\n",
       "      <td>35.000000</td>\n",
       "      <td>1.000000</td>\n",
       "      <td>5.000000</td>\n",
       "      <td>2.000000</td>\n",
       "      <td>120493.18980</td>\n",
       "      <td>0.000000</td>\n",
       "    </tr>\n",
       "    <tr>\n",
       "      <th>50%</th>\n",
       "      <td>84569.652585</td>\n",
       "      <td>50.000000</td>\n",
       "      <td>2.000000</td>\n",
       "      <td>11.000000</td>\n",
       "      <td>4.000000</td>\n",
       "      <td>250150.51920</td>\n",
       "      <td>1.000000</td>\n",
       "    </tr>\n",
       "    <tr>\n",
       "      <th>75%</th>\n",
       "      <td>116370.518950</td>\n",
       "      <td>65.000000</td>\n",
       "      <td>3.000000</td>\n",
       "      <td>15.000000</td>\n",
       "      <td>6.000000</td>\n",
       "      <td>374437.28950</td>\n",
       "      <td>1.000000</td>\n",
       "    </tr>\n",
       "    <tr>\n",
       "      <th>max</th>\n",
       "      <td>150000.000000</td>\n",
       "      <td>80.000000</td>\n",
       "      <td>4.000000</td>\n",
       "      <td>20.000000</td>\n",
       "      <td>8.000000</td>\n",
       "      <td>500000.00000</td>\n",
       "      <td>1.000000</td>\n",
       "    </tr>\n",
       "  </tbody>\n",
       "</table>\n",
       "</div>"
      ],
      "text/plain": [
       "              salary          age       elevel          car      zipcode  \\\n",
       "count    9398.000000  9398.000000  9398.000000  9398.000000  9398.000000   \n",
       "mean    84660.175727    49.839434     1.981805    10.508087     4.031390   \n",
       "std     37366.506559    17.588066     1.420142     5.769663     2.580733   \n",
       "min     20000.000000    20.000000     0.000000     1.000000     0.000000   \n",
       "25%     52469.618368    35.000000     1.000000     5.000000     2.000000   \n",
       "50%     84569.652585    50.000000     2.000000    11.000000     4.000000   \n",
       "75%    116370.518950    65.000000     3.000000    15.000000     6.000000   \n",
       "max    150000.000000    80.000000     4.000000    20.000000     8.000000   \n",
       "\n",
       "             credit        brand  \n",
       "count    9398.00000  9398.000000  \n",
       "mean   248854.90282     0.601617  \n",
       "std    145150.62815     0.489591  \n",
       "min         0.00000     0.000000  \n",
       "25%    120493.18980     0.000000  \n",
       "50%    250150.51920     1.000000  \n",
       "75%    374437.28950     1.000000  \n",
       "max    500000.00000     1.000000  "
      ]
     },
     "metadata": {},
     "output_type": "display_data"
    }
   ],
   "source": [
    "print(\"the number of train set is: \", train_data.shape)\n",
    "print(\"the number of test set is: \", test_data.shape)\n",
    "display(train_data.describe())#预览数据"
   ]
  },
  {
   "cell_type": "markdown",
   "metadata": {},
   "source": [
    "我们可以看到训练集数据总共有9398个，测试集数据有4500个。\n",
    "\n",
    "训练集比较大，因此可以用训练集做交叉验证，再用测试集进行验证模型是否过拟合或欠拟合。"
   ]
  },
  {
   "cell_type": "markdown",
   "metadata": {},
   "source": [
    "# **二、探索性分析**"
   ]
  },
  {
   "cell_type": "markdown",
   "metadata": {},
   "source": [
    "## 2.1目标值与变量之间的关系"
   ]
  },
  {
   "cell_type": "markdown",
   "metadata": {},
   "source": [
    "### 2.1.1不同教育水平对电脑品牌的选择情况"
   ]
  },
  {
   "cell_type": "code",
   "execution_count": 4,
   "metadata": {
    "scrolled": true
   },
   "outputs": [
    {
     "data": {
      "text/plain": [
       "Text(0.5, 1.0, 'Effects of different levels of education on computer brand choice')"
      ]
     },
     "execution_count": 4,
     "metadata": {},
     "output_type": "execute_result"
    },
    {
     "data": {
      "text/plain": [
       "<Figure size 864x288 with 0 Axes>"
      ]
     },
     "metadata": {},
     "output_type": "display_data"
    },
    {
     "data": {
      "image/png": "[encoded data removed]",
      "text/plain": [
       "<Figure size 432x288 with 1 Axes>"
      ]
     },
     "metadata": {
      "needs_background": "light"
     },
     "output_type": "display_data"
    }
   ],
   "source": [
    "plt.figure(figsize=(12,4))\n",
    "train_data.pivot_table(index='elevel',columns='brand',values='age',aggfunc='count').plot.bar(stacked=True)\n",
    "plt.title('Effects of different levels of education on computer brand choice')"
   ]
  },
  {
   "cell_type": "markdown",
   "metadata": {},
   "source": [
    "从图中可以看出同一学历的人在选择电脑品牌是更倾向于索尼。\n",
    "\n",
    "不同学历对电脑品牌的选择几乎没有影响。"
   ]
  },
  {
   "cell_type": "markdown",
   "metadata": {},
   "source": [
    "### 2.1.2不同年龄对电脑品牌选择的影响"
   ]
  },
  {
   "cell_type": "code",
   "execution_count": 5,
   "metadata": {},
   "outputs": [
    {
     "data": {
      "text/plain": [
       "<seaborn.axisgrid.FacetGrid at 0x26a3ef06d60>"
      ]
     },
     "execution_count": 5,
     "metadata": {},
     "output_type": "execute_result"
    },
    {
     "data": {
      "image/png": "[encoded data removed]",
      "text/plain": [
       "<Figure size 690.375x216 with 1 Axes>"
      ]
     },
     "metadata": {
      "needs_background": "light"
     },
     "output_type": "display_data"
    }
   ],
   "source": [
    "ageFacet=sns.FacetGrid(train_data,hue='brand',aspect=3)#创建坐标轴\n",
    "ageFacet.map(sns.kdeplot,'age',shade=True)#作图，选择图形的类型\n",
    "ageFacet.set(xlim=(20,train_data['age'].max()))#其他信息：坐标轴范围、标签等\n",
    "ageFacet.add_legend()"
   ]
  },
  {
   "cell_type": "markdown",
   "metadata": {},
   "source": [
    "由图可知在[20,40]和[50,65]这一区间范围内，购买宏碁品牌的人数多于购买索尼品牌的人数,但是在[65,80]内购买索尼品牌的人数更多。\n",
    "\n",
    "但是总体来看差异不大。"
   ]
  },
  {
   "cell_type": "markdown",
   "metadata": {},
   "source": [
    "### 2.1.3 薪资对购买电脑品牌的影响"
   ]
  },
  {
   "cell_type": "code",
   "execution_count": 6,
   "metadata": {},
   "outputs": [
    {
     "data": {
      "text/plain": [
       "<seaborn.axisgrid.FacetGrid at 0x26a3efb1fa0>"
      ]
     },
     "execution_count": 6,
     "metadata": {},
     "output_type": "execute_result"
    },
    {
     "data": {
      "image/png": "[encoded data removed]",
      "text/plain": [
       "<Figure size 690.375x216 with 1 Axes>"
      ]
     },
     "metadata": {
      "needs_background": "light"
     },
     "output_type": "display_data"
    }
   ],
   "source": [
    "salaryFacet=sns.FacetGrid(train_data,hue='brand',aspect=3)#创建坐标轴\n",
    "salaryFacet.map(sns.kdeplot,'salary',shade=True)#作图，选择图形的类型\n",
    "salaryFacet.set(xlim=(20000,train_data['salary'].max()))#其他信息：坐标轴范围、标签等\n",
    "salaryFacet.add_legend()"
   ]
  },
  {
   "cell_type": "markdown",
   "metadata": {},
   "source": [
    "由图可以看出薪资与购买宏碁品牌的人数之间近似与正态分布。\n",
    "\n",
    "薪资处于[40000,100000]的人明显更喜欢购买宏碁品牌，而薪资处于[120000,150000]的人群明显更喜欢购买索尼品牌。"
   ]
  },
  {
   "cell_type": "markdown",
   "metadata": {},
   "source": [
    "## 2.1.4邮政编码对购买电脑品牌的影响"
   ]
  },
  {
   "cell_type": "code",
   "execution_count": 7,
   "metadata": {},
   "outputs": [
    {
     "data": {
      "text/plain": [
       "Text(0.5, 1.0, 'Effects of different zip code on computer brand choice')"
      ]
     },
     "execution_count": 7,
     "metadata": {},
     "output_type": "execute_result"
    },
    {
     "data": {
      "text/plain": [
       "<Figure size 864x288 with 0 Axes>"
      ]
     },
     "metadata": {},
     "output_type": "display_data"
    },
    {
     "data": {
      "image/png": "[encoded data removed]",
      "text/plain": [
       "<Figure size 432x288 with 1 Axes>"
      ]
     },
     "metadata": {
      "needs_background": "light"
     },
     "output_type": "display_data"
    }
   ],
   "source": [
    "plt.figure(figsize=(12,4))\n",
    "train_data.pivot_table(index='zipcode',columns='brand',values='age',aggfunc='count').plot.bar(stacked=True)\n",
    "plt.title('Effects of different zip code on computer brand choice')"
   ]
  },
  {
   "cell_type": "markdown",
   "metadata": {},
   "source": [
    "由图可以看出处在同一地区的人更倾向于购买索尼品牌，对于不同地区，购买宏碁品牌的人数都大致相同。"
   ]
  },
  {
   "cell_type": "markdown",
   "metadata": {},
   "source": [
    "### 2.1.5信用额度对购买电脑品牌的影响"
   ]
  },
  {
   "cell_type": "code",
   "execution_count": 8,
   "metadata": {},
   "outputs": [
    {
     "data": {
      "text/plain": [
       "<seaborn.axisgrid.FacetGrid at 0x26a3f09d8e0>"
      ]
     },
     "execution_count": 8,
     "metadata": {},
     "output_type": "execute_result"
    },
    {
     "data": {
      "image/png": "[encoded data removed]",
      "text/plain": [
       "<Figure size 690.375x216 with 1 Axes>"
      ]
     },
     "metadata": {
      "needs_background": "light"
     },
     "output_type": "display_data"
    }
   ],
   "source": [
    "creditFacet=sns.FacetGrid(train_data,hue='brand',aspect=3)#创建坐标轴\n",
    "creditFacet.map(sns.kdeplot,'credit',shade=True)#作图，选择图形的类型\n",
    "creditFacet.set(xlim=(0,train_data['credit'].max()))#其他信息：坐标轴范围、标签等\n",
    "creditFacet.add_legend()"
   ]
  },
  {
   "cell_type": "markdown",
   "metadata": {},
   "source": [
    "由图可以看出信用额度几乎对两种品牌购买的影响相同"
   ]
  },
  {
   "cell_type": "markdown",
   "metadata": {},
   "source": [
    "### 2.1.6 不同汽车品牌对购买电脑品牌的影响"
   ]
  },
  {
   "cell_type": "code",
   "execution_count": 9,
   "metadata": {},
   "outputs": [
    {
     "data": {
      "text/plain": [
       "Text(0.5, 1.0, 'Effects of different zip code on computer brand choice')"
      ]
     },
     "execution_count": 9,
     "metadata": {},
     "output_type": "execute_result"
    },
    {
     "data": {
      "text/plain": [
       "<Figure size 864x288 with 0 Axes>"
      ]
     },
     "metadata": {},
     "output_type": "display_data"
    },
    {
     "data": {
      "image/png": "[encoded data removed]",
      "text/plain": [
       "<Figure size 432x288 with 1 Axes>"
      ]
     },
     "metadata": {
      "needs_background": "light"
     },
     "output_type": "display_data"
    }
   ],
   "source": [
    "plt.figure(figsize=(12,4))\n",
    "train_data.pivot_table(index='car',columns='brand',values='age',aggfunc='count').plot.bar(stacked=True)\n",
    "plt.title('Effects of different zip code on computer brand choice')"
   ]
  },
  {
   "cell_type": "markdown",
   "metadata": {},
   "source": [
    "由图可以看出同一汽车品牌的人更倾向于购买索尼品牌电脑。不同汽车品牌的人群购买电脑品牌的差异不大"
   ]
  },
  {
   "cell_type": "markdown",
   "metadata": {},
   "source": [
    "## 2.2多变量分析"
   ]
  },
  {
   "cell_type": "code",
   "execution_count": 10,
   "metadata": {},
   "outputs": [
    {
     "data": {
      "text/plain": [
       "<AxesSubplot:>"
      ]
     },
     "execution_count": 10,
     "metadata": {},
     "output_type": "execute_result"
    },
    {
     "data": {
      "image/png": "[encoded data removed]",
      "text/plain": [
       "<Figure size 1152x1152 with 2 Axes>"
      ]
     },
     "metadata": {
      "needs_background": "light"
     },
     "output_type": "display_data"
    }
   ],
   "source": [
    "corrs = train_data.corr()\n",
    "plt.figure(figsize=(16, 16))\n",
    "sns.heatmap(corrs,\n",
    "             annot=True, # 注入数据\n",
    "            center = 0)  # 绘制有色数据时将色彩映射居中的值)"
   ]
  },
  {
   "cell_type": "markdown",
   "metadata": {},
   "source": [
    "可以看出各个特征之间的相关性很低且特征较少。因此不用进行LDA。"
   ]
  },
  {
   "cell_type": "markdown",
   "metadata": {},
   "source": [
    "# **三、数据预处理**"
   ]
  },
  {
   "cell_type": "markdown",
   "metadata": {},
   "source": [
    "## 3.1 缺失值处理"
   ]
  },
  {
   "cell_type": "markdown",
   "metadata": {},
   "source": [
    "先将测试集和训练集放一起，这样进行数据预处理更方便。"
   ]
  },
  {
   "cell_type": "code",
   "execution_count": 11,
   "metadata": {},
   "outputs": [],
   "source": [
    "all_data=pd.concat([train_data,test_data])# 合并测试机和训练集\n",
    "all_data = all_data.reset_index() # 重新设置index\n",
    "all_data.drop('index',axis=1,inplace=True)\n",
    "train_num=train_data.shape[0] # 存储训练集的列数"
   ]
  },
  {
   "cell_type": "markdown",
   "metadata": {},
   "source": [
    "查看缺失值"
   ]
  },
  {
   "cell_type": "code",
   "execution_count": 12,
   "metadata": {},
   "outputs": [
    {
     "name": "stdout",
     "output_type": "stream",
     "text": [
      "(13898, 7)\n",
      "<class 'pandas.core.frame.DataFrame'>\n",
      "RangeIndex: 13898 entries, 0 to 13897\n",
      "Data columns (total 7 columns):\n",
      " #   Column   Non-Null Count  Dtype  \n",
      "---  ------   --------------  -----  \n",
      " 0   salary   13898 non-null  float64\n",
      " 1   age      13898 non-null  int64  \n",
      " 2   elevel   13898 non-null  int64  \n",
      " 3   car      13898 non-null  int64  \n",
      " 4   zipcode  13898 non-null  int64  \n",
      " 5   credit   13898 non-null  float64\n",
      " 6   brand    13898 non-null  int64  \n",
      "dtypes: float64(2), int64(5)\n",
      "memory usage: 760.2 KB\n"
     ]
    }
   ],
   "source": [
    "print(all_data.shape) # 查看数据集的数据条数\n",
    "all_data.info()# 查看各列的个数"
   ]
  },
  {
   "cell_type": "markdown",
   "metadata": {},
   "source": [
    "发现该数据集并没有缺失值，因此不需要进行缺失值处理。"
   ]
  },
  {
   "cell_type": "markdown",
   "metadata": {},
   "source": [
    "## 3.2 One—Hot"
   ]
  },
  {
   "cell_type": "markdown",
   "metadata": {},
   "source": [
    "使用 one—hot 编码，我们可以将离散特征的取值扩展到欧式空间。\n",
    "\n",
    "在分类问题中，特征之间距离的计算或相似度计算非常重要，而我们常用的这些计算都在欧式空间中进行相似度计算。\n",
    "\n",
    "因此这里将数据集的个别离散特征进行 one—hot 编码。"
   ]
  },
  {
   "cell_type": "code",
   "execution_count": 13,
   "metadata": {},
   "outputs": [],
   "source": [
    "# 定义独热函数\n",
    "def oneHot_code(all_data,cols):# all_data 为要进行独热的数据集，cols 为该数据集要进行独热的特征名\n",
    "    all_data = pd.get_dummies(all_data,columns=cols)\n",
    "    return all_data # 返回独热后的 DataFrame "
   ]
  },
  {
   "cell_type": "code",
   "execution_count": 14,
   "metadata": {},
   "outputs": [],
   "source": [
    "all_data=oneHot_code(all_data,['elevel','zipcode','car'])# 将 car、elevel 和 zipcode 特征进行独热。"
   ]
  },
  {
   "cell_type": "markdown",
   "metadata": {},
   "source": [
    "car、elevel 和 zipcode 特征的特征值虽然为数值，但其代表的含义却是离散的。\n",
    "\n",
    "因此对该三个特征进行独热操作。"
   ]
  },
  {
   "cell_type": "code",
   "execution_count": 15,
   "metadata": {},
   "outputs": [
    {
     "name": "stdout",
     "output_type": "stream",
     "text": [
      "(13898, 38)\n"
     ]
    }
   ],
   "source": [
    "print(all_data.shape)"
   ]
  },
  {
   "cell_type": "markdown",
   "metadata": {},
   "source": [
    "独热之后数据集的维度上升。"
   ]
  },
  {
   "cell_type": "markdown",
   "metadata": {},
   "source": [
    "## 3.3 特征值组合"
   ]
  },
  {
   "cell_type": "markdown",
   "metadata": {},
   "source": [
    "将 salary 除以 age 构成一个新的特征，名为 salary_age"
   ]
  },
  {
   "cell_type": "code",
   "execution_count": 16,
   "metadata": {},
   "outputs": [],
   "source": [
    "all_data['salary_age']=all_data.salary/all_data.age"
   ]
  },
  {
   "cell_type": "markdown",
   "metadata": {},
   "source": [
    "将 credit 除以 age 构成一个新特征，名为 credit_age"
   ]
  },
  {
   "cell_type": "code",
   "execution_count": 17,
   "metadata": {},
   "outputs": [],
   "source": [
    "all_data['credit_age']=all_data.credit/all_data.age"
   ]
  },
  {
   "cell_type": "markdown",
   "metadata": {},
   "source": [
    "将 credit 除以 salary 构成一个新特征，名为 credit_salary"
   ]
  },
  {
   "cell_type": "code",
   "execution_count": 18,
   "metadata": {},
   "outputs": [],
   "source": [
    "all_data['credit_salary']=all_data.credit/(all_data.salary)"
   ]
  },
  {
   "cell_type": "code",
   "execution_count": 19,
   "metadata": {},
   "outputs": [
    {
     "data": {
      "text/plain": [
       "array([0, 0, 0, 0, 0, 0, 0, 0, 0, 0, 0, 0, 0, 0, 0, 0, 0, 0, 0, 0, 0, 0,\n",
       "       0, 0, 0, 0, 0, 0, 0, 0, 0, 0, 0, 0, 0, 0, 0, 0, 0, 0, 0])"
      ]
     },
     "execution_count": 19,
     "metadata": {},
     "output_type": "execute_result"
    }
   ],
   "source": [
    "sum(np.isinf(all_data.values))# 查看是否有 inf"
   ]
  },
  {
   "cell_type": "markdown",
   "metadata": {},
   "source": [
    "因为进行除法之后可能回出现无穷大的情况，所以需要进行检查。检查后发现不存在无穷大。"
   ]
  },
  {
   "cell_type": "markdown",
   "metadata": {},
   "source": [
    "预览处理后的数据"
   ]
  },
  {
   "cell_type": "code",
   "execution_count": 20,
   "metadata": {
    "scrolled": true
   },
   "outputs": [
    {
     "data": {
      "text/html": [
       "<div>\n",
       "<style scoped>\n",
       "    .dataframe tbody tr th:only-of-type {\n",
       "        vertical-align: middle;\n",
       "    }\n",
       "\n",
       "    .dataframe tbody tr th {\n",
       "        vertical-align: top;\n",
       "    }\n",
       "\n",
       "    .dataframe thead th {\n",
       "        text-align: right;\n",
       "    }\n",
       "</style>\n",
       "<table border=\"1\" class=\"dataframe\">\n",
       "  <thead>\n",
       "    <tr style=\"text-align: right;\">\n",
       "      <th></th>\n",
       "      <th>salary</th>\n",
       "      <th>age</th>\n",
       "      <th>credit</th>\n",
       "      <th>brand</th>\n",
       "      <th>elevel_0</th>\n",
       "      <th>elevel_1</th>\n",
       "      <th>elevel_2</th>\n",
       "      <th>elevel_3</th>\n",
       "      <th>elevel_4</th>\n",
       "      <th>zipcode_0</th>\n",
       "      <th>...</th>\n",
       "      <th>car_14</th>\n",
       "      <th>car_15</th>\n",
       "      <th>car_16</th>\n",
       "      <th>car_17</th>\n",
       "      <th>car_18</th>\n",
       "      <th>car_19</th>\n",
       "      <th>car_20</th>\n",
       "      <th>salary_age</th>\n",
       "      <th>credit_age</th>\n",
       "      <th>credit_salary</th>\n",
       "    </tr>\n",
       "  </thead>\n",
       "  <tbody>\n",
       "    <tr>\n",
       "      <th>0</th>\n",
       "      <td>119806.54480</td>\n",
       "      <td>45</td>\n",
       "      <td>442037.71130</td>\n",
       "      <td>0</td>\n",
       "      <td>1</td>\n",
       "      <td>0</td>\n",
       "      <td>0</td>\n",
       "      <td>0</td>\n",
       "      <td>0</td>\n",
       "      <td>0</td>\n",
       "      <td>...</td>\n",
       "      <td>1</td>\n",
       "      <td>0</td>\n",
       "      <td>0</td>\n",
       "      <td>0</td>\n",
       "      <td>0</td>\n",
       "      <td>0</td>\n",
       "      <td>0</td>\n",
       "      <td>2662.367662</td>\n",
       "      <td>9823.060251</td>\n",
       "      <td>3.689596</td>\n",
       "    </tr>\n",
       "    <tr>\n",
       "      <th>1</th>\n",
       "      <td>78020.75094</td>\n",
       "      <td>23</td>\n",
       "      <td>48795.32279</td>\n",
       "      <td>0</td>\n",
       "      <td>1</td>\n",
       "      <td>0</td>\n",
       "      <td>0</td>\n",
       "      <td>0</td>\n",
       "      <td>0</td>\n",
       "      <td>0</td>\n",
       "      <td>...</td>\n",
       "      <td>0</td>\n",
       "      <td>1</td>\n",
       "      <td>0</td>\n",
       "      <td>0</td>\n",
       "      <td>0</td>\n",
       "      <td>0</td>\n",
       "      <td>0</td>\n",
       "      <td>3392.206563</td>\n",
       "      <td>2121.535773</td>\n",
       "      <td>0.625415</td>\n",
       "    </tr>\n",
       "    <tr>\n",
       "      <th>2</th>\n",
       "      <td>50873.61880</td>\n",
       "      <td>20</td>\n",
       "      <td>352951.49770</td>\n",
       "      <td>0</td>\n",
       "      <td>0</td>\n",
       "      <td>0</td>\n",
       "      <td>0</td>\n",
       "      <td>1</td>\n",
       "      <td>0</td>\n",
       "      <td>0</td>\n",
       "      <td>...</td>\n",
       "      <td>1</td>\n",
       "      <td>0</td>\n",
       "      <td>0</td>\n",
       "      <td>0</td>\n",
       "      <td>0</td>\n",
       "      <td>0</td>\n",
       "      <td>0</td>\n",
       "      <td>2543.680940</td>\n",
       "      <td>17647.574885</td>\n",
       "      <td>6.937810</td>\n",
       "    </tr>\n",
       "    <tr>\n",
       "      <th>3</th>\n",
       "      <td>72298.80402</td>\n",
       "      <td>29</td>\n",
       "      <td>276298.69520</td>\n",
       "      <td>0</td>\n",
       "      <td>0</td>\n",
       "      <td>0</td>\n",
       "      <td>0</td>\n",
       "      <td>0</td>\n",
       "      <td>1</td>\n",
       "      <td>1</td>\n",
       "      <td>...</td>\n",
       "      <td>0</td>\n",
       "      <td>0</td>\n",
       "      <td>0</td>\n",
       "      <td>1</td>\n",
       "      <td>0</td>\n",
       "      <td>0</td>\n",
       "      <td>0</td>\n",
       "      <td>2493.062208</td>\n",
       "      <td>9527.541214</td>\n",
       "      <td>3.821622</td>\n",
       "    </tr>\n",
       "    <tr>\n",
       "      <th>4</th>\n",
       "      <td>128999.93560</td>\n",
       "      <td>52</td>\n",
       "      <td>152232.50980</td>\n",
       "      <td>0</td>\n",
       "      <td>0</td>\n",
       "      <td>1</td>\n",
       "      <td>0</td>\n",
       "      <td>0</td>\n",
       "      <td>0</td>\n",
       "      <td>1</td>\n",
       "      <td>...</td>\n",
       "      <td>0</td>\n",
       "      <td>0</td>\n",
       "      <td>0</td>\n",
       "      <td>0</td>\n",
       "      <td>0</td>\n",
       "      <td>0</td>\n",
       "      <td>0</td>\n",
       "      <td>2480.767992</td>\n",
       "      <td>2927.548265</td>\n",
       "      <td>1.180098</td>\n",
       "    </tr>\n",
       "    <tr>\n",
       "      <th>...</th>\n",
       "      <td>...</td>\n",
       "      <td>...</td>\n",
       "      <td>...</td>\n",
       "      <td>...</td>\n",
       "      <td>...</td>\n",
       "      <td>...</td>\n",
       "      <td>...</td>\n",
       "      <td>...</td>\n",
       "      <td>...</td>\n",
       "      <td>...</td>\n",
       "      <td>...</td>\n",
       "      <td>...</td>\n",
       "      <td>...</td>\n",
       "      <td>...</td>\n",
       "      <td>...</td>\n",
       "      <td>...</td>\n",
       "      <td>...</td>\n",
       "      <td>...</td>\n",
       "      <td>...</td>\n",
       "      <td>...</td>\n",
       "      <td>...</td>\n",
       "    </tr>\n",
       "    <tr>\n",
       "      <th>13893</th>\n",
       "      <td>23235.84583</td>\n",
       "      <td>75</td>\n",
       "      <td>375881.49020</td>\n",
       "      <td>1</td>\n",
       "      <td>0</td>\n",
       "      <td>0</td>\n",
       "      <td>0</td>\n",
       "      <td>0</td>\n",
       "      <td>1</td>\n",
       "      <td>0</td>\n",
       "      <td>...</td>\n",
       "      <td>0</td>\n",
       "      <td>0</td>\n",
       "      <td>0</td>\n",
       "      <td>1</td>\n",
       "      <td>0</td>\n",
       "      <td>0</td>\n",
       "      <td>0</td>\n",
       "      <td>309.811278</td>\n",
       "      <td>5011.753203</td>\n",
       "      <td>16.176794</td>\n",
       "    </tr>\n",
       "    <tr>\n",
       "      <th>13894</th>\n",
       "      <td>92539.75251</td>\n",
       "      <td>80</td>\n",
       "      <td>45027.69697</td>\n",
       "      <td>1</td>\n",
       "      <td>0</td>\n",
       "      <td>0</td>\n",
       "      <td>0</td>\n",
       "      <td>0</td>\n",
       "      <td>1</td>\n",
       "      <td>0</td>\n",
       "      <td>...</td>\n",
       "      <td>0</td>\n",
       "      <td>0</td>\n",
       "      <td>0</td>\n",
       "      <td>0</td>\n",
       "      <td>0</td>\n",
       "      <td>0</td>\n",
       "      <td>0</td>\n",
       "      <td>1156.746906</td>\n",
       "      <td>562.846212</td>\n",
       "      <td>0.486577</td>\n",
       "    </tr>\n",
       "    <tr>\n",
       "      <th>13895</th>\n",
       "      <td>84296.08945</td>\n",
       "      <td>72</td>\n",
       "      <td>131900.46890</td>\n",
       "      <td>1</td>\n",
       "      <td>0</td>\n",
       "      <td>0</td>\n",
       "      <td>1</td>\n",
       "      <td>0</td>\n",
       "      <td>0</td>\n",
       "      <td>0</td>\n",
       "      <td>...</td>\n",
       "      <td>0</td>\n",
       "      <td>0</td>\n",
       "      <td>0</td>\n",
       "      <td>0</td>\n",
       "      <td>0</td>\n",
       "      <td>0</td>\n",
       "      <td>0</td>\n",
       "      <td>1170.779020</td>\n",
       "      <td>1831.950957</td>\n",
       "      <td>1.564728</td>\n",
       "    </tr>\n",
       "    <tr>\n",
       "      <th>13896</th>\n",
       "      <td>129891.40790</td>\n",
       "      <td>32</td>\n",
       "      <td>213871.09990</td>\n",
       "      <td>1</td>\n",
       "      <td>0</td>\n",
       "      <td>1</td>\n",
       "      <td>0</td>\n",
       "      <td>0</td>\n",
       "      <td>0</td>\n",
       "      <td>0</td>\n",
       "      <td>...</td>\n",
       "      <td>0</td>\n",
       "      <td>0</td>\n",
       "      <td>0</td>\n",
       "      <td>0</td>\n",
       "      <td>0</td>\n",
       "      <td>0</td>\n",
       "      <td>0</td>\n",
       "      <td>4059.106497</td>\n",
       "      <td>6683.471872</td>\n",
       "      <td>1.646538</td>\n",
       "    </tr>\n",
       "    <tr>\n",
       "      <th>13897</th>\n",
       "      <td>112032.60830</td>\n",
       "      <td>77</td>\n",
       "      <td>0.00000</td>\n",
       "      <td>1</td>\n",
       "      <td>0</td>\n",
       "      <td>1</td>\n",
       "      <td>0</td>\n",
       "      <td>0</td>\n",
       "      <td>0</td>\n",
       "      <td>0</td>\n",
       "      <td>...</td>\n",
       "      <td>0</td>\n",
       "      <td>0</td>\n",
       "      <td>0</td>\n",
       "      <td>0</td>\n",
       "      <td>0</td>\n",
       "      <td>0</td>\n",
       "      <td>0</td>\n",
       "      <td>1454.968939</td>\n",
       "      <td>0.000000</td>\n",
       "      <td>0.000000</td>\n",
       "    </tr>\n",
       "  </tbody>\n",
       "</table>\n",
       "<p>13898 rows × 41 columns</p>\n",
       "</div>"
      ],
      "text/plain": [
       "             salary  age        credit  brand  elevel_0  elevel_1  elevel_2  \\\n",
       "0      119806.54480   45  442037.71130      0         1         0         0   \n",
       "1       78020.75094   23   48795.32279      0         1         0         0   \n",
       "2       50873.61880   20  352951.49770      0         0         0         0   \n",
       "3       72298.80402   29  276298.69520      0         0         0         0   \n",
       "4      128999.93560   52  152232.50980      0         0         1         0   \n",
       "...             ...  ...           ...    ...       ...       ...       ...   \n",
       "13893   23235.84583   75  375881.49020      1         0         0         0   \n",
       "13894   92539.75251   80   45027.69697      1         0         0         0   \n",
       "13895   84296.08945   72  131900.46890      1         0         0         1   \n",
       "13896  129891.40790   32  213871.09990      1         0         1         0   \n",
       "13897  112032.60830   77       0.00000      1         0         1         0   \n",
       "\n",
       "       elevel_3  elevel_4  zipcode_0  ...  car_14  car_15  car_16  car_17  \\\n",
       "0             0         0          0  ...       1       0       0       0   \n",
       "1             0         0          0  ...       0       1       0       0   \n",
       "2             1         0          0  ...       1       0       0       0   \n",
       "3             0         1          1  ...       0       0       0       1   \n",
       "4             0         0          1  ...       0       0       0       0   \n",
       "...         ...       ...        ...  ...     ...     ...     ...     ...   \n",
       "13893         0         1          0  ...       0       0       0       1   \n",
       "13894         0         1          0  ...       0       0       0       0   \n",
       "13895         0         0          0  ...       0       0       0       0   \n",
       "13896         0         0          0  ...       0       0       0       0   \n",
       "13897         0         0          0  ...       0       0       0       0   \n",
       "\n",
       "       car_18  car_19  car_20   salary_age    credit_age  credit_salary  \n",
       "0           0       0       0  2662.367662   9823.060251       3.689596  \n",
       "1           0       0       0  3392.206563   2121.535773       0.625415  \n",
       "2           0       0       0  2543.680940  17647.574885       6.937810  \n",
       "3           0       0       0  2493.062208   9527.541214       3.821622  \n",
       "4           0       0       0  2480.767992   2927.548265       1.180098  \n",
       "...       ...     ...     ...          ...           ...            ...  \n",
       "13893       0       0       0   309.811278   5011.753203      16.176794  \n",
       "13894       0       0       0  1156.746906    562.846212       0.486577  \n",
       "13895       0       0       0  1170.779020   1831.950957       1.564728  \n",
       "13896       0       0       0  4059.106497   6683.471872       1.646538  \n",
       "13897       0       0       0  1454.968939      0.000000       0.000000  \n",
       "\n",
       "[13898 rows x 41 columns]"
      ]
     },
     "execution_count": 20,
     "metadata": {},
     "output_type": "execute_result"
    }
   ],
   "source": [
    "all_data"
   ]
  },
  {
   "cell_type": "code",
   "execution_count": 21,
   "metadata": {},
   "outputs": [],
   "source": [
    "def match_case(data,col,num):\n",
    "    mi=data[col].min()\n",
    "    ma=data[col].max()\n",
    "    k=(data[col].max()-data[col].min())/num\n",
    "    for i in range(data.shape[0]):\n",
    "        for n in range(num+1):\n",
    "            if(data[col][i]>= mi+n*k and data[col][i]<=mi+(n+1)*k):\n",
    "                data[col][i]=n\n",
    "                break\n",
    "    return data\n",
    "        \n",
    "def match_cases(data,cols,nums):\n",
    "    for col in cols:\n",
    "        data=match_case(data=data,col=col,num=nums)\n",
    "    return data"
   ]
  },
  {
   "cell_type": "code",
   "execution_count": 22,
   "metadata": {},
   "outputs": [],
   "source": [
    "all_data=match_cases(all_data,['salary','salary_age','credit_age','credit_salary','credit'],5)"
   ]
  },
  {
   "cell_type": "code",
   "execution_count": 23,
   "metadata": {},
   "outputs": [
    {
     "data": {
      "text/html": [
       "<div>\n",
       "<style scoped>\n",
       "    .dataframe tbody tr th:only-of-type {\n",
       "        vertical-align: middle;\n",
       "    }\n",
       "\n",
       "    .dataframe tbody tr th {\n",
       "        vertical-align: top;\n",
       "    }\n",
       "\n",
       "    .dataframe thead th {\n",
       "        text-align: right;\n",
       "    }\n",
       "</style>\n",
       "<table border=\"1\" class=\"dataframe\">\n",
       "  <thead>\n",
       "    <tr style=\"text-align: right;\">\n",
       "      <th></th>\n",
       "      <th>salary</th>\n",
       "      <th>age</th>\n",
       "      <th>credit</th>\n",
       "      <th>brand</th>\n",
       "      <th>elevel_0</th>\n",
       "      <th>elevel_1</th>\n",
       "      <th>elevel_2</th>\n",
       "      <th>elevel_3</th>\n",
       "      <th>elevel_4</th>\n",
       "      <th>zipcode_0</th>\n",
       "      <th>...</th>\n",
       "      <th>car_14</th>\n",
       "      <th>car_15</th>\n",
       "      <th>car_16</th>\n",
       "      <th>car_17</th>\n",
       "      <th>car_18</th>\n",
       "      <th>car_19</th>\n",
       "      <th>car_20</th>\n",
       "      <th>salary_age</th>\n",
       "      <th>credit_age</th>\n",
       "      <th>credit_salary</th>\n",
       "    </tr>\n",
       "  </thead>\n",
       "  <tbody>\n",
       "    <tr>\n",
       "      <th>0</th>\n",
       "      <td>3.0</td>\n",
       "      <td>45</td>\n",
       "      <td>4.0</td>\n",
       "      <td>0</td>\n",
       "      <td>1</td>\n",
       "      <td>0</td>\n",
       "      <td>0</td>\n",
       "      <td>0</td>\n",
       "      <td>0</td>\n",
       "      <td>0</td>\n",
       "      <td>...</td>\n",
       "      <td>1</td>\n",
       "      <td>0</td>\n",
       "      <td>0</td>\n",
       "      <td>0</td>\n",
       "      <td>0</td>\n",
       "      <td>0</td>\n",
       "      <td>0</td>\n",
       "      <td>1.0</td>\n",
       "      <td>1.0</td>\n",
       "      <td>0.0</td>\n",
       "    </tr>\n",
       "    <tr>\n",
       "      <th>1</th>\n",
       "      <td>2.0</td>\n",
       "      <td>23</td>\n",
       "      <td>0.0</td>\n",
       "      <td>0</td>\n",
       "      <td>1</td>\n",
       "      <td>0</td>\n",
       "      <td>0</td>\n",
       "      <td>0</td>\n",
       "      <td>0</td>\n",
       "      <td>0</td>\n",
       "      <td>...</td>\n",
       "      <td>0</td>\n",
       "      <td>1</td>\n",
       "      <td>0</td>\n",
       "      <td>0</td>\n",
       "      <td>0</td>\n",
       "      <td>0</td>\n",
       "      <td>0</td>\n",
       "      <td>2.0</td>\n",
       "      <td>0.0</td>\n",
       "      <td>0.0</td>\n",
       "    </tr>\n",
       "    <tr>\n",
       "      <th>2</th>\n",
       "      <td>1.0</td>\n",
       "      <td>20</td>\n",
       "      <td>3.0</td>\n",
       "      <td>0</td>\n",
       "      <td>0</td>\n",
       "      <td>0</td>\n",
       "      <td>0</td>\n",
       "      <td>1</td>\n",
       "      <td>0</td>\n",
       "      <td>0</td>\n",
       "      <td>...</td>\n",
       "      <td>1</td>\n",
       "      <td>0</td>\n",
       "      <td>0</td>\n",
       "      <td>0</td>\n",
       "      <td>0</td>\n",
       "      <td>0</td>\n",
       "      <td>0</td>\n",
       "      <td>1.0</td>\n",
       "      <td>3.0</td>\n",
       "      <td>1.0</td>\n",
       "    </tr>\n",
       "    <tr>\n",
       "      <th>3</th>\n",
       "      <td>2.0</td>\n",
       "      <td>29</td>\n",
       "      <td>2.0</td>\n",
       "      <td>0</td>\n",
       "      <td>0</td>\n",
       "      <td>0</td>\n",
       "      <td>0</td>\n",
       "      <td>0</td>\n",
       "      <td>1</td>\n",
       "      <td>1</td>\n",
       "      <td>...</td>\n",
       "      <td>0</td>\n",
       "      <td>0</td>\n",
       "      <td>0</td>\n",
       "      <td>1</td>\n",
       "      <td>0</td>\n",
       "      <td>0</td>\n",
       "      <td>0</td>\n",
       "      <td>1.0</td>\n",
       "      <td>1.0</td>\n",
       "      <td>0.0</td>\n",
       "    </tr>\n",
       "    <tr>\n",
       "      <th>4</th>\n",
       "      <td>4.0</td>\n",
       "      <td>52</td>\n",
       "      <td>1.0</td>\n",
       "      <td>0</td>\n",
       "      <td>0</td>\n",
       "      <td>1</td>\n",
       "      <td>0</td>\n",
       "      <td>0</td>\n",
       "      <td>0</td>\n",
       "      <td>1</td>\n",
       "      <td>...</td>\n",
       "      <td>0</td>\n",
       "      <td>0</td>\n",
       "      <td>0</td>\n",
       "      <td>0</td>\n",
       "      <td>0</td>\n",
       "      <td>0</td>\n",
       "      <td>0</td>\n",
       "      <td>1.0</td>\n",
       "      <td>0.0</td>\n",
       "      <td>0.0</td>\n",
       "    </tr>\n",
       "    <tr>\n",
       "      <th>...</th>\n",
       "      <td>...</td>\n",
       "      <td>...</td>\n",
       "      <td>...</td>\n",
       "      <td>...</td>\n",
       "      <td>...</td>\n",
       "      <td>...</td>\n",
       "      <td>...</td>\n",
       "      <td>...</td>\n",
       "      <td>...</td>\n",
       "      <td>...</td>\n",
       "      <td>...</td>\n",
       "      <td>...</td>\n",
       "      <td>...</td>\n",
       "      <td>...</td>\n",
       "      <td>...</td>\n",
       "      <td>...</td>\n",
       "      <td>...</td>\n",
       "      <td>...</td>\n",
       "      <td>...</td>\n",
       "      <td>...</td>\n",
       "      <td>...</td>\n",
       "    </tr>\n",
       "    <tr>\n",
       "      <th>13893</th>\n",
       "      <td>0.0</td>\n",
       "      <td>75</td>\n",
       "      <td>3.0</td>\n",
       "      <td>1</td>\n",
       "      <td>0</td>\n",
       "      <td>0</td>\n",
       "      <td>0</td>\n",
       "      <td>0</td>\n",
       "      <td>1</td>\n",
       "      <td>0</td>\n",
       "      <td>...</td>\n",
       "      <td>0</td>\n",
       "      <td>0</td>\n",
       "      <td>0</td>\n",
       "      <td>1</td>\n",
       "      <td>0</td>\n",
       "      <td>0</td>\n",
       "      <td>0</td>\n",
       "      <td>0.0</td>\n",
       "      <td>1.0</td>\n",
       "      <td>3.0</td>\n",
       "    </tr>\n",
       "    <tr>\n",
       "      <th>13894</th>\n",
       "      <td>2.0</td>\n",
       "      <td>80</td>\n",
       "      <td>0.0</td>\n",
       "      <td>1</td>\n",
       "      <td>0</td>\n",
       "      <td>0</td>\n",
       "      <td>0</td>\n",
       "      <td>0</td>\n",
       "      <td>1</td>\n",
       "      <td>0</td>\n",
       "      <td>...</td>\n",
       "      <td>0</td>\n",
       "      <td>0</td>\n",
       "      <td>0</td>\n",
       "      <td>0</td>\n",
       "      <td>0</td>\n",
       "      <td>0</td>\n",
       "      <td>0</td>\n",
       "      <td>0.0</td>\n",
       "      <td>0.0</td>\n",
       "      <td>0.0</td>\n",
       "    </tr>\n",
       "    <tr>\n",
       "      <th>13895</th>\n",
       "      <td>2.0</td>\n",
       "      <td>72</td>\n",
       "      <td>1.0</td>\n",
       "      <td>1</td>\n",
       "      <td>0</td>\n",
       "      <td>0</td>\n",
       "      <td>1</td>\n",
       "      <td>0</td>\n",
       "      <td>0</td>\n",
       "      <td>0</td>\n",
       "      <td>...</td>\n",
       "      <td>0</td>\n",
       "      <td>0</td>\n",
       "      <td>0</td>\n",
       "      <td>0</td>\n",
       "      <td>0</td>\n",
       "      <td>0</td>\n",
       "      <td>0</td>\n",
       "      <td>0.0</td>\n",
       "      <td>0.0</td>\n",
       "      <td>0.0</td>\n",
       "    </tr>\n",
       "    <tr>\n",
       "      <th>13896</th>\n",
       "      <td>4.0</td>\n",
       "      <td>32</td>\n",
       "      <td>2.0</td>\n",
       "      <td>1</td>\n",
       "      <td>0</td>\n",
       "      <td>1</td>\n",
       "      <td>0</td>\n",
       "      <td>0</td>\n",
       "      <td>0</td>\n",
       "      <td>0</td>\n",
       "      <td>...</td>\n",
       "      <td>0</td>\n",
       "      <td>0</td>\n",
       "      <td>0</td>\n",
       "      <td>0</td>\n",
       "      <td>0</td>\n",
       "      <td>0</td>\n",
       "      <td>0</td>\n",
       "      <td>2.0</td>\n",
       "      <td>1.0</td>\n",
       "      <td>0.0</td>\n",
       "    </tr>\n",
       "    <tr>\n",
       "      <th>13897</th>\n",
       "      <td>3.0</td>\n",
       "      <td>77</td>\n",
       "      <td>0.0</td>\n",
       "      <td>1</td>\n",
       "      <td>0</td>\n",
       "      <td>1</td>\n",
       "      <td>0</td>\n",
       "      <td>0</td>\n",
       "      <td>0</td>\n",
       "      <td>0</td>\n",
       "      <td>...</td>\n",
       "      <td>0</td>\n",
       "      <td>0</td>\n",
       "      <td>0</td>\n",
       "      <td>0</td>\n",
       "      <td>0</td>\n",
       "      <td>0</td>\n",
       "      <td>0</td>\n",
       "      <td>0.0</td>\n",
       "      <td>0.0</td>\n",
       "      <td>0.0</td>\n",
       "    </tr>\n",
       "  </tbody>\n",
       "</table>\n",
       "<p>13898 rows × 41 columns</p>\n",
       "</div>"
      ],
      "text/plain": [
       "       salary  age  credit  brand  elevel_0  elevel_1  elevel_2  elevel_3  \\\n",
       "0         3.0   45     4.0      0         1         0         0         0   \n",
       "1         2.0   23     0.0      0         1         0         0         0   \n",
       "2         1.0   20     3.0      0         0         0         0         1   \n",
       "3         2.0   29     2.0      0         0         0         0         0   \n",
       "4         4.0   52     1.0      0         0         1         0         0   \n",
       "...       ...  ...     ...    ...       ...       ...       ...       ...   \n",
       "13893     0.0   75     3.0      1         0         0         0         0   \n",
       "13894     2.0   80     0.0      1         0         0         0         0   \n",
       "13895     2.0   72     1.0      1         0         0         1         0   \n",
       "13896     4.0   32     2.0      1         0         1         0         0   \n",
       "13897     3.0   77     0.0      1         0         1         0         0   \n",
       "\n",
       "       elevel_4  zipcode_0  ...  car_14  car_15  car_16  car_17  car_18  \\\n",
       "0             0          0  ...       1       0       0       0       0   \n",
       "1             0          0  ...       0       1       0       0       0   \n",
       "2             0          0  ...       1       0       0       0       0   \n",
       "3             1          1  ...       0       0       0       1       0   \n",
       "4             0          1  ...       0       0       0       0       0   \n",
       "...         ...        ...  ...     ...     ...     ...     ...     ...   \n",
       "13893         1          0  ...       0       0       0       1       0   \n",
       "13894         1          0  ...       0       0       0       0       0   \n",
       "13895         0          0  ...       0       0       0       0       0   \n",
       "13896         0          0  ...       0       0       0       0       0   \n",
       "13897         0          0  ...       0       0       0       0       0   \n",
       "\n",
       "       car_19  car_20  salary_age  credit_age  credit_salary  \n",
       "0           0       0         1.0         1.0            0.0  \n",
       "1           0       0         2.0         0.0            0.0  \n",
       "2           0       0         1.0         3.0            1.0  \n",
       "3           0       0         1.0         1.0            0.0  \n",
       "4           0       0         1.0         0.0            0.0  \n",
       "...       ...     ...         ...         ...            ...  \n",
       "13893       0       0         0.0         1.0            3.0  \n",
       "13894       0       0         0.0         0.0            0.0  \n",
       "13895       0       0         0.0         0.0            0.0  \n",
       "13896       0       0         2.0         1.0            0.0  \n",
       "13897       0       0         0.0         0.0            0.0  \n",
       "\n",
       "[13898 rows x 41 columns]"
      ]
     },
     "execution_count": 23,
     "metadata": {},
     "output_type": "execute_result"
    }
   ],
   "source": [
    "all_data"
   ]
  },
  {
   "cell_type": "markdown",
   "metadata": {},
   "source": [
    "## 3.4 归一化处理"
   ]
  },
  {
   "cell_type": "markdown",
   "metadata": {},
   "source": [
    "&ensp;&ensp;&ensp;&ensp;归一化的具体作用是归纳统一样本的统计分布性。\n",
    "\n",
    "&ensp;&ensp;&ensp;&ensp;归一化在0-1之间是统计的概率分布，归一化在[-1,1]之间是统计的坐标分布。神经网络是以样本在事件中的统计分别几率来进行训练（概率计算）和预测的，且sigmoid函数的取值是0到1之间的，网络最后一个节点的输出也是如此，所以经常要对样本的输出归一化处理。\n",
    "\n",
    "&ensp;&ensp;&ensp;&ensp;为了提高模型的精度以及收敛速度，我们对数据进行归一化处理。"
   ]
  },
  {
   "cell_type": "markdown",
   "metadata": {},
   "source": [
    "定义归一化函数"
   ]
  },
  {
   "cell_type": "code",
   "execution_count": 24,
   "metadata": {},
   "outputs": [],
   "source": [
    "# # 定义归一化函数\n",
    "# def minmaxScaler(all_data,cols):\n",
    "#     from sklearn import preprocessing # 归一化库 \n",
    "#     min_max_scaler = preprocessing.MinMaxScaler() # 定义类\n",
    "#     x_minmax = min_max_scaler.fit_transform(all_data[cols]) #拟合\n",
    "#     x_minmax = pd.DataFrame(x_minmax,columns=cols)\n",
    "#     all_data.drop(cols,axis=1,inplace=True)\n",
    "#     all_data=all_data.join(x_minmax)# 合并数据\n",
    "#     return all_data"
   ]
  },
  {
   "cell_type": "markdown",
   "metadata": {},
   "source": [
    "对all_data进行归一化处理"
   ]
  },
  {
   "cell_type": "code",
   "execution_count": 25,
   "metadata": {},
   "outputs": [],
   "source": [
    "# cols=['salary','age','credit','salary_age','credit_age','credit_salary']\n",
    "# all_data=minmaxScaler(all_data,cols=cols) # 归一化处理"
   ]
  },
  {
   "cell_type": "markdown",
   "metadata": {},
   "source": [
    "分离训练集和测试集"
   ]
  },
  {
   "cell_type": "code",
   "execution_count": 26,
   "metadata": {},
   "outputs": [],
   "source": [
    "# 分离训练集和测试集\n",
    "train = all_data[:train_num]\n",
    "test = all_data[train_num:]"
   ]
  },
  {
   "cell_type": "markdown",
   "metadata": {},
   "source": [
    "# 四、训练模型"
   ]
  },
  {
   "cell_type": "markdown",
   "metadata": {},
   "source": [
    "## 4.1 建立训练模型"
   ]
  },
  {
   "cell_type": "markdown",
   "metadata": {},
   "source": [
    "分析人们会买什么品牌的电脑，这是一个监督学习的分类问题。\n",
    "\n",
    "目前监督学习中几种主流的分类算法有：决策树，SVM，贝叶斯，KNN，随机森林，AdaBoost。\n",
    "\n",
    "下面分别用这几种方法来进行训练模型。"
   ]
  },
  {
   "cell_type": "code",
   "execution_count": 27,
   "metadata": {},
   "outputs": [],
   "source": [
    "# 决策树\n",
    "from sklearn.tree import DecisionTreeClassifier\n",
    "skullsTree=DecisionTreeClassifier()\n",
    "# SVM\n",
    "from sklearn import svm\n",
    "SVM=svm.LinearSVC()\n",
    "# 贝叶斯\n",
    "from sklearn import naive_bayes\n",
    "bys=naive_bayes.GaussianNB()\n",
    "# KNN\n",
    "from sklearn.neighbors import KNeighborsClassifier\n",
    "KNN=KNeighborsClassifier(n_neighbors=50)\n",
    "# 随机森林\n",
    "from sklearn.ensemble import RandomForestClassifier\n",
    "rfc=RandomForestClassifier()\n",
    "# AdaBoost\n",
    "from sklearn.ensemble import AdaBoostClassifier\n",
    "ada=AdaBoostClassifier(n_estimators=50)"
   ]
  },
  {
   "cell_type": "markdown",
   "metadata": {},
   "source": [
    "## 4.2 建立交叉验证函数"
   ]
  },
  {
   "cell_type": "markdown",
   "metadata": {},
   "source": [
    "定义一个交叉验证函数，便于模型评估"
   ]
  },
  {
   "cell_type": "code",
   "execution_count": 28,
   "metadata": {},
   "outputs": [],
   "source": [
    "# 定义评价函数\n",
    "def get_scores(models,data,lable):\n",
    "    from sklearn.model_selection import cross_val_score # 导入交叉验证库\n",
    "    scores=[]# 保存各个模型的分数\n",
    "    for model in models:\n",
    "        score=cross_val_score(model,data,lable,cv=10) # 交叉验证\n",
    "        scores.append(score)\n",
    "    return scores"
   ]
  },
  {
   "cell_type": "markdown",
   "metadata": {},
   "source": [
    "对 skullsTree,SVM,bys,KNN,rfc,ada 模型进行交叉验证，并返回分数"
   ]
  },
  {
   "cell_type": "code",
   "execution_count": 29,
   "metadata": {},
   "outputs": [],
   "source": [
    "models=[skullsTree,SVM,bys,KNN,rfc,ada]\n",
    "train_lable=train.brand\n",
    "train_data=train.drop('brand',axis=1)\n",
    "test_lable=test.brand\n",
    "test_data=test.drop('brand',axis=1)\n",
    "scores=get_scores(models=models,data=train_data,lable=train_lable) #交叉验证并返回分数"
   ]
  },
  {
   "cell_type": "markdown",
   "metadata": {},
   "source": [
    "输出各个模型交叉验证的分数"
   ]
  },
  {
   "cell_type": "code",
   "execution_count": 30,
   "metadata": {},
   "outputs": [
    {
     "name": "stdout",
     "output_type": "stream",
     "text": [
      "skullsTree score: 0.8740 (0.0077)\n",
      "SVM score: 0.5576 (0.0664)\n",
      "bys score: 0.6402 (0.0230)\n",
      "KNN score: 0.9004 (0.0106)\n",
      "rfc score: 0.8997 (0.0111)\n",
      "ada score: 0.7802 (0.0119)\n"
     ]
    }
   ],
   "source": [
    "# 输出分数\n",
    "name_list=['skullsTree','SVM','bys','KNN','rfc','ada']\n",
    "for name,score in zip(name_list,scores):\n",
    "    print(name+\" score: {:.4f} ({:.4f})\".format(score.mean(), score.std()))"
   ]
  },
  {
   "cell_type": "markdown",
   "metadata": {},
   "source": [
    "选择三个分数较高的模型：决策树、随机森林和 AdaBoost"
   ]
  },
  {
   "cell_type": "markdown",
   "metadata": {},
   "source": [
    "## 4.3测试模型"
   ]
  },
  {
   "cell_type": "code",
   "execution_count": 31,
   "metadata": {},
   "outputs": [
    {
     "name": "stdout",
     "output_type": "stream",
     "text": [
      "0.38822222222222225\n",
      "0.04911111111111111\n",
      "0.3908888888888889\n",
      "0.4062222222222222\n",
      "0.39066666666666666\n",
      "0.35133333333333333\n"
     ]
    }
   ],
   "source": [
    "for model in models:\n",
    "    model.fit(train_data,train_lable)\n",
    "    print(model.score(test_data,test_lable))"
   ]
  },
  {
   "cell_type": "code",
   "execution_count": 32,
   "metadata": {},
   "outputs": [
    {
     "data": {
      "text/html": [
       "<div>\n",
       "<style scoped>\n",
       "    .dataframe tbody tr th:only-of-type {\n",
       "        vertical-align: middle;\n",
       "    }\n",
       "\n",
       "    .dataframe tbody tr th {\n",
       "        vertical-align: top;\n",
       "    }\n",
       "\n",
       "    .dataframe thead th {\n",
       "        text-align: right;\n",
       "    }\n",
       "</style>\n",
       "<table border=\"1\" class=\"dataframe\">\n",
       "  <thead>\n",
       "    <tr style=\"text-align: right;\">\n",
       "      <th></th>\n",
       "      <th>salary</th>\n",
       "      <th>age</th>\n",
       "      <th>credit</th>\n",
       "      <th>brand</th>\n",
       "      <th>elevel_0</th>\n",
       "      <th>elevel_1</th>\n",
       "      <th>elevel_2</th>\n",
       "      <th>elevel_3</th>\n",
       "      <th>elevel_4</th>\n",
       "      <th>zipcode_0</th>\n",
       "      <th>...</th>\n",
       "      <th>car_14</th>\n",
       "      <th>car_15</th>\n",
       "      <th>car_16</th>\n",
       "      <th>car_17</th>\n",
       "      <th>car_18</th>\n",
       "      <th>car_19</th>\n",
       "      <th>car_20</th>\n",
       "      <th>salary_age</th>\n",
       "      <th>credit_age</th>\n",
       "      <th>credit_salary</th>\n",
       "    </tr>\n",
       "  </thead>\n",
       "  <tbody>\n",
       "    <tr>\n",
       "      <th>9398</th>\n",
       "      <td>0.0</td>\n",
       "      <td>64</td>\n",
       "      <td>1.0</td>\n",
       "      <td>0</td>\n",
       "      <td>0</td>\n",
       "      <td>0</td>\n",
       "      <td>0</td>\n",
       "      <td>0</td>\n",
       "      <td>1</td>\n",
       "      <td>0</td>\n",
       "      <td>...</td>\n",
       "      <td>0</td>\n",
       "      <td>0</td>\n",
       "      <td>0</td>\n",
       "      <td>0</td>\n",
       "      <td>0</td>\n",
       "      <td>0</td>\n",
       "      <td>0</td>\n",
       "      <td>0.0</td>\n",
       "      <td>0.0</td>\n",
       "      <td>0.0</td>\n",
       "    </tr>\n",
       "    <tr>\n",
       "      <th>9399</th>\n",
       "      <td>1.0</td>\n",
       "      <td>51</td>\n",
       "      <td>3.0</td>\n",
       "      <td>0</td>\n",
       "      <td>0</td>\n",
       "      <td>0</td>\n",
       "      <td>0</td>\n",
       "      <td>1</td>\n",
       "      <td>0</td>\n",
       "      <td>0</td>\n",
       "      <td>...</td>\n",
       "      <td>0</td>\n",
       "      <td>0</td>\n",
       "      <td>0</td>\n",
       "      <td>0</td>\n",
       "      <td>0</td>\n",
       "      <td>0</td>\n",
       "      <td>0</td>\n",
       "      <td>0.0</td>\n",
       "      <td>1.0</td>\n",
       "      <td>0.0</td>\n",
       "    </tr>\n",
       "    <tr>\n",
       "      <th>9400</th>\n",
       "      <td>4.0</td>\n",
       "      <td>76</td>\n",
       "      <td>0.0</td>\n",
       "      <td>0</td>\n",
       "      <td>0</td>\n",
       "      <td>1</td>\n",
       "      <td>0</td>\n",
       "      <td>0</td>\n",
       "      <td>0</td>\n",
       "      <td>1</td>\n",
       "      <td>...</td>\n",
       "      <td>0</td>\n",
       "      <td>0</td>\n",
       "      <td>0</td>\n",
       "      <td>0</td>\n",
       "      <td>0</td>\n",
       "      <td>0</td>\n",
       "      <td>0</td>\n",
       "      <td>1.0</td>\n",
       "      <td>0.0</td>\n",
       "      <td>0.0</td>\n",
       "    </tr>\n",
       "    <tr>\n",
       "      <th>9401</th>\n",
       "      <td>2.0</td>\n",
       "      <td>66</td>\n",
       "      <td>4.0</td>\n",
       "      <td>0</td>\n",
       "      <td>0</td>\n",
       "      <td>0</td>\n",
       "      <td>0</td>\n",
       "      <td>0</td>\n",
       "      <td>1</td>\n",
       "      <td>0</td>\n",
       "      <td>...</td>\n",
       "      <td>0</td>\n",
       "      <td>0</td>\n",
       "      <td>0</td>\n",
       "      <td>0</td>\n",
       "      <td>0</td>\n",
       "      <td>0</td>\n",
       "      <td>0</td>\n",
       "      <td>0.0</td>\n",
       "      <td>1.0</td>\n",
       "      <td>0.0</td>\n",
       "    </tr>\n",
       "    <tr>\n",
       "      <th>9402</th>\n",
       "      <td>2.0</td>\n",
       "      <td>34</td>\n",
       "      <td>0.0</td>\n",
       "      <td>0</td>\n",
       "      <td>0</td>\n",
       "      <td>0</td>\n",
       "      <td>0</td>\n",
       "      <td>0</td>\n",
       "      <td>1</td>\n",
       "      <td>0</td>\n",
       "      <td>...</td>\n",
       "      <td>1</td>\n",
       "      <td>0</td>\n",
       "      <td>0</td>\n",
       "      <td>0</td>\n",
       "      <td>0</td>\n",
       "      <td>0</td>\n",
       "      <td>0</td>\n",
       "      <td>1.0</td>\n",
       "      <td>0.0</td>\n",
       "      <td>0.0</td>\n",
       "    </tr>\n",
       "    <tr>\n",
       "      <th>...</th>\n",
       "      <td>...</td>\n",
       "      <td>...</td>\n",
       "      <td>...</td>\n",
       "      <td>...</td>\n",
       "      <td>...</td>\n",
       "      <td>...</td>\n",
       "      <td>...</td>\n",
       "      <td>...</td>\n",
       "      <td>...</td>\n",
       "      <td>...</td>\n",
       "      <td>...</td>\n",
       "      <td>...</td>\n",
       "      <td>...</td>\n",
       "      <td>...</td>\n",
       "      <td>...</td>\n",
       "      <td>...</td>\n",
       "      <td>...</td>\n",
       "      <td>...</td>\n",
       "      <td>...</td>\n",
       "      <td>...</td>\n",
       "      <td>...</td>\n",
       "    </tr>\n",
       "    <tr>\n",
       "      <th>13893</th>\n",
       "      <td>0.0</td>\n",
       "      <td>75</td>\n",
       "      <td>3.0</td>\n",
       "      <td>1</td>\n",
       "      <td>0</td>\n",
       "      <td>0</td>\n",
       "      <td>0</td>\n",
       "      <td>0</td>\n",
       "      <td>1</td>\n",
       "      <td>0</td>\n",
       "      <td>...</td>\n",
       "      <td>0</td>\n",
       "      <td>0</td>\n",
       "      <td>0</td>\n",
       "      <td>1</td>\n",
       "      <td>0</td>\n",
       "      <td>0</td>\n",
       "      <td>0</td>\n",
       "      <td>0.0</td>\n",
       "      <td>1.0</td>\n",
       "      <td>3.0</td>\n",
       "    </tr>\n",
       "    <tr>\n",
       "      <th>13894</th>\n",
       "      <td>2.0</td>\n",
       "      <td>80</td>\n",
       "      <td>0.0</td>\n",
       "      <td>1</td>\n",
       "      <td>0</td>\n",
       "      <td>0</td>\n",
       "      <td>0</td>\n",
       "      <td>0</td>\n",
       "      <td>1</td>\n",
       "      <td>0</td>\n",
       "      <td>...</td>\n",
       "      <td>0</td>\n",
       "      <td>0</td>\n",
       "      <td>0</td>\n",
       "      <td>0</td>\n",
       "      <td>0</td>\n",
       "      <td>0</td>\n",
       "      <td>0</td>\n",
       "      <td>0.0</td>\n",
       "      <td>0.0</td>\n",
       "      <td>0.0</td>\n",
       "    </tr>\n",
       "    <tr>\n",
       "      <th>13895</th>\n",
       "      <td>2.0</td>\n",
       "      <td>72</td>\n",
       "      <td>1.0</td>\n",
       "      <td>1</td>\n",
       "      <td>0</td>\n",
       "      <td>0</td>\n",
       "      <td>1</td>\n",
       "      <td>0</td>\n",
       "      <td>0</td>\n",
       "      <td>0</td>\n",
       "      <td>...</td>\n",
       "      <td>0</td>\n",
       "      <td>0</td>\n",
       "      <td>0</td>\n",
       "      <td>0</td>\n",
       "      <td>0</td>\n",
       "      <td>0</td>\n",
       "      <td>0</td>\n",
       "      <td>0.0</td>\n",
       "      <td>0.0</td>\n",
       "      <td>0.0</td>\n",
       "    </tr>\n",
       "    <tr>\n",
       "      <th>13896</th>\n",
       "      <td>4.0</td>\n",
       "      <td>32</td>\n",
       "      <td>2.0</td>\n",
       "      <td>1</td>\n",
       "      <td>0</td>\n",
       "      <td>1</td>\n",
       "      <td>0</td>\n",
       "      <td>0</td>\n",
       "      <td>0</td>\n",
       "      <td>0</td>\n",
       "      <td>...</td>\n",
       "      <td>0</td>\n",
       "      <td>0</td>\n",
       "      <td>0</td>\n",
       "      <td>0</td>\n",
       "      <td>0</td>\n",
       "      <td>0</td>\n",
       "      <td>0</td>\n",
       "      <td>2.0</td>\n",
       "      <td>1.0</td>\n",
       "      <td>0.0</td>\n",
       "    </tr>\n",
       "    <tr>\n",
       "      <th>13897</th>\n",
       "      <td>3.0</td>\n",
       "      <td>77</td>\n",
       "      <td>0.0</td>\n",
       "      <td>1</td>\n",
       "      <td>0</td>\n",
       "      <td>1</td>\n",
       "      <td>0</td>\n",
       "      <td>0</td>\n",
       "      <td>0</td>\n",
       "      <td>0</td>\n",
       "      <td>...</td>\n",
       "      <td>0</td>\n",
       "      <td>0</td>\n",
       "      <td>0</td>\n",
       "      <td>0</td>\n",
       "      <td>0</td>\n",
       "      <td>0</td>\n",
       "      <td>0</td>\n",
       "      <td>0.0</td>\n",
       "      <td>0.0</td>\n",
       "      <td>0.0</td>\n",
       "    </tr>\n",
       "  </tbody>\n",
       "</table>\n",
       "<p>4500 rows × 41 columns</p>\n",
       "</div>"
      ],
      "text/plain": [
       "       salary  age  credit  brand  elevel_0  elevel_1  elevel_2  elevel_3  \\\n",
       "9398      0.0   64     1.0      0         0         0         0         0   \n",
       "9399      1.0   51     3.0      0         0         0         0         1   \n",
       "9400      4.0   76     0.0      0         0         1         0         0   \n",
       "9401      2.0   66     4.0      0         0         0         0         0   \n",
       "9402      2.0   34     0.0      0         0         0         0         0   \n",
       "...       ...  ...     ...    ...       ...       ...       ...       ...   \n",
       "13893     0.0   75     3.0      1         0         0         0         0   \n",
       "13894     2.0   80     0.0      1         0         0         0         0   \n",
       "13895     2.0   72     1.0      1         0         0         1         0   \n",
       "13896     4.0   32     2.0      1         0         1         0         0   \n",
       "13897     3.0   77     0.0      1         0         1         0         0   \n",
       "\n",
       "       elevel_4  zipcode_0  ...  car_14  car_15  car_16  car_17  car_18  \\\n",
       "9398          1          0  ...       0       0       0       0       0   \n",
       "9399          0          0  ...       0       0       0       0       0   \n",
       "9400          0          1  ...       0       0       0       0       0   \n",
       "9401          1          0  ...       0       0       0       0       0   \n",
       "9402          1          0  ...       1       0       0       0       0   \n",
       "...         ...        ...  ...     ...     ...     ...     ...     ...   \n",
       "13893         1          0  ...       0       0       0       1       0   \n",
       "13894         1          0  ...       0       0       0       0       0   \n",
       "13895         0          0  ...       0       0       0       0       0   \n",
       "13896         0          0  ...       0       0       0       0       0   \n",
       "13897         0          0  ...       0       0       0       0       0   \n",
       "\n",
       "       car_19  car_20  salary_age  credit_age  credit_salary  \n",
       "9398        0       0         0.0         0.0            0.0  \n",
       "9399        0       0         0.0         1.0            0.0  \n",
       "9400        0       0         1.0         0.0            0.0  \n",
       "9401        0       0         0.0         1.0            0.0  \n",
       "9402        0       0         1.0         0.0            0.0  \n",
       "...       ...     ...         ...         ...            ...  \n",
       "13893       0       0         0.0         1.0            3.0  \n",
       "13894       0       0         0.0         0.0            0.0  \n",
       "13895       0       0         0.0         0.0            0.0  \n",
       "13896       0       0         2.0         1.0            0.0  \n",
       "13897       0       0         0.0         0.0            0.0  \n",
       "\n",
       "[4500 rows x 41 columns]"
      ]
     },
     "execution_count": 32,
     "metadata": {},
     "output_type": "execute_result"
    }
   ],
   "source": [
    "test"
   ]
  },
  {
   "cell_type": "markdown",
   "metadata": {},
   "source": [
    "# 五、总结"
   ]
  },
  {
   "cell_type": "markdown",
   "metadata": {},
   "source": [
    "# 参考资料\n",
    "> []()\n",
    "> \n",
    "> []()\n",
    ">\n",
    "> []()\n",
    ">\n",
    "> []()"
   ]
  },
  {
   "cell_type": "markdown",
   "metadata": {},
   "source": []
  }
 ],
 "metadata": {
  "interpreter": {
   "hash": "b3ba2566441a7c06988d0923437866b63cedc61552a5af99d1f4fb67d367b25f"
  },
  "kernelspec": {
   "display_name": "Python 3",
   "language": "python",
   "name": "python3"
  },
  "language_info": {
   "codemirror_mode": {
    "name": "ipython",
    "version": 3
   },
   "file_extension": ".py",
   "mimetype": "text/x-python",
   "name": "python",
   "nbconvert_exporter": "python",
   "pygments_lexer": "ipython3",
   "version": "3.8.8"
  }
 },
 "nbformat": 4,
 "nbformat_minor": 2
}
